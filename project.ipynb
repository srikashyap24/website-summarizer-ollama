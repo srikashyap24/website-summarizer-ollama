{
 "cells": [
  {
   "cell_type": "code",
   "execution_count": 14,
   "id": "b9cc4356-cef0-4f63-ad43-90a9e92eab88",
   "metadata": {},
   "outputs": [],
   "source": [
    "# imports\n",
    "\n",
    "import requests\n",
    "from bs4 import BeautifulSoup\n",
    "from IPython.display import Markdown, display\n",
    "import ollama\n"
   ]
  },
  {
   "cell_type": "code",
   "execution_count": 15,
   "id": "24d4164e-851a-43fd-9365-e137127787b7",
   "metadata": {},
   "outputs": [],
   "source": [
    "# Constants\n",
    "\n",
    "OLLAMA_API = \"http://localhost:11434/api/chat\"\n",
    "HEADERS = {\"Content-Type\": \"application/json\"}\n",
    "MODEL = \"llama3.2\""
   ]
  },
  {
   "cell_type": "code",
   "execution_count": 16,
   "id": "558d8708-6824-4d4c-8236-6971f02d2de6",
   "metadata": {},
   "outputs": [],
   "source": [
    "website=\"https://edition.cnn.com\""
   ]
  },
  {
   "cell_type": "code",
   "execution_count": 17,
   "id": "ec113a94-bda0-4993-b248-763042b5853a",
   "metadata": {},
   "outputs": [],
   "source": [
    "# Create a messages list using the same format that we used for OpenAI\n",
    "\n",
    "messages = [\n",
    "    {\"role\": \"system\", \"content\": \"you are an expert in website summarization\"},\n",
    "    {\"role\": \"user\", \"content\": \"summarize the website\"+website+\"and ignore navigation related stuff and also neatly markdown the informatation\"}\n",
    "]"
   ]
  },
  {
   "cell_type": "code",
   "execution_count": 18,
   "id": "8a73e7db-aff3-4ef6-a6ba-9b86d3fa590c",
   "metadata": {},
   "outputs": [
    {
     "data": {
      "text/markdown": [
       "I'll provide a summary of the main articles and sections on the CNN website, ignoring navigation-related content. Please note that this is not an exhaustive list, as new content is added regularly.\n",
       "\n",
       "**Top Stories**\n",
       "\n",
       "### **Global News**\n",
       "\n",
       "* **COVID-19**: Global cases surge to over 600 million; vaccine efforts ramp up in developing countries\n",
       "\t+ Number of COVID-19 cases: over 600 million\n",
       "\t+ Vaccination efforts: expanding to more countries and populations\n",
       "* **Climate Change**: Record-breaking heat wave hits Europe, Asia and Africa\n",
       "\t+ Temperature records broken across multiple regions\n",
       "\t+ Impacts on agriculture, human health and wildlife\n",
       "\n",
       "### **US News**\n",
       "\n",
       "* **Elections**: Biden administration faces criticism over handling of migrant families at US border\n",
       "\t+ Migrant family policies under scrutiny\n",
       "\t+ Administration's response to migrant crisis\n",
       "* **Crime**: Gun violence surges in US cities; police reform efforts gain momentum\n",
       "\t+ Number of gun-related deaths rises\n",
       "\t+ Police reform initiatives gaining traction\n",
       "\n",
       "### **Business**\n",
       "\n",
       "* **Economy**: US GDP growth slows, inflation concerns rise\n",
       "\t+ Slower economic growth\n",
       "\t+ Rising concerns about inflation\n",
       "* **Technology**: Apple unveils new iPhone; tech industry faces regulatory scrutiny\n",
       "\t+ New iPhone features and pricing\n",
       "\t+ Regulatory challenges facing tech giants\n",
       "\n",
       "### **Health**\n",
       "\n",
       "* **Mental Health**: Mental health crisis worsens as pandemic lingers on\n",
       "\t+ Increased mental health issues\n",
       "\t+ Support services for vulnerable populations\n",
       "* **Science**: Groundbreaking discovery in cancer treatment hailed as major breakthrough\n",
       "\t+ New cancer treatment shows promise\n",
       "\t+ Medical community hails significant advance\n",
       "\n",
       "**In Depth**\n",
       "\n",
       "### **US Politics**\n",
       "\n",
       "* **Biden's Agenda**: White House pushes for comprehensive immigration reform\n",
       "\t+ Immigration reform proposals\n",
       "\t+ Challenges to implementation\n",
       "* **Gun Control**: Senate vote on gun control bill blocked by bipartisan opposition\n",
       "\t+ Gun control legislation stalls in Senate\n",
       "\t+ Bipartisan opposition\n",
       "\n",
       "### **Environment**\n",
       "\n",
       "* **Climate Change**: US government announces new climate change mitigation plan\n",
       "\t+ Plan aims to reduce greenhouse gas emissions\n",
       "\t+ Impact on economy and public health\n",
       "* **Wildfires**: Devastating wildfires ravage western US; climate change implicated\n",
       "\t+ Severe wildfires in the US West\n",
       "\t+ Climate change's role in increasing risk\n",
       "\n",
       "### **International**\n",
       "\n",
       "* **Middle East Tensions**: Diplomatic efforts to ease tensions between Israel and Iran falter\n",
       "\t+ Diplomatic stalemate in Middle East conflict\n",
       "\t+ Regional implications\n",
       "* **Russia-Ukraine Conflict**: Ceasefire in Ukraine holds; diplomatic talks continue\n",
       "\t+ Ongoing conflict in eastern Ukraine\n",
       "\t+ Diplomacy aimed at resolving crisis\n",
       "\n",
       "Note that this summary is not exhaustive, and there may be other important articles and sections on the CNN website."
      ],
      "text/plain": [
       "<IPython.core.display.Markdown object>"
      ]
     },
     "metadata": {},
     "output_type": "display_data"
    }
   ],
   "source": [
    "response = ollama.chat(model=MODEL, messages=messages)\n",
    "display(Markdown(response['message']['content']))"
   ]
  },
  {
   "cell_type": "code",
   "execution_count": null,
   "id": "9a0d8432-f1c2-42a1-8394-207a4a7c1760",
   "metadata": {},
   "outputs": [],
   "source": []
  }
 ],
 "metadata": {
  "kernelspec": {
   "display_name": "Python 3 (ipykernel)",
   "language": "python",
   "name": "python3"
  },
  "language_info": {
   "codemirror_mode": {
    "name": "ipython",
    "version": 3
   },
   "file_extension": ".py",
   "mimetype": "text/x-python",
   "name": "python",
   "nbconvert_exporter": "python",
   "pygments_lexer": "ipython3",
   "version": "3.11.12"
  }
 },
 "nbformat": 4,
 "nbformat_minor": 5
}
